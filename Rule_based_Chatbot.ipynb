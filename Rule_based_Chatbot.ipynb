{
  "nbformat": 4,
  "nbformat_minor": 0,
  "metadata": {
    "colab": {
      "provenance": [],
      "authorship_tag": "ABX9TyOEZthmfj+Pr8i9Sd+yWXuS",
      "include_colab_link": true
    },
    "kernelspec": {
      "name": "python3",
      "display_name": "Python 3"
    },
    "language_info": {
      "name": "python"
    }
  },
  "cells": [
    {
      "cell_type": "markdown",
      "metadata": {
        "id": "view-in-github",
        "colab_type": "text"
      },
      "source": [
        "<a href=\"https://colab.research.google.com/github/junedkhan9310/Simple-Rule-Based-Chatbot/blob/main/Rule_based_Chatbot.ipynb\" target=\"_parent\"><img src=\"https://colab.research.google.com/assets/colab-badge.svg\" alt=\"Open In Colab\"/></a>"
      ]
    },
    {
      "cell_type": "code",
      "execution_count": null,
      "metadata": {
        "id": "oK8JnOKLQVtr"
      },
      "outputs": [],
      "source": [
        "import re\n",
        "import random"
      ]
    },
    {
      "cell_type": "code",
      "source": [
        "class RuleBot:\n",
        "    # Negative responses\n",
        "    negative_responses = [\"no\", \"nah\", \"nope\", \"fk off\"]\n",
        "\n",
        "    # Exit conversation keywords\n",
        "    exit_commands = [\"quit\", \"pause\", \"later\", \"ok thanks\", \"ok\", \"by\", \"let's end this\"]\n",
        "\n",
        "    # Random starter questions\n",
        "    random_question = [\n",
        "        \"why are you here?\",\n",
        "        \"who are you?\",\n",
        "        \"what do you do?\",\n",
        "        \"do you like someone?\",\n",
        "        \"is the sun bigger or the moon?\"\n",
        "    ]\n",
        "\n",
        "    def __init__(self):\n",
        "        self.alienbabble = {\n",
        "            'describe_planet_intent': r'.*your planet.*',\n",
        "            'answer_why_intent': r'why\\sare.*',\n",
        "            'about_intellipaat': r'.*intellipaat*.',\n",
        "            'about_disaster_managment': r'.*\\s*disaster*.'\n",
        "        }\n",
        "\n",
        "    def greet(self):\n",
        "        self.name = input(\"What is your name?\\n\")\n",
        "        will_help = input(f\"Hi {self.name}, I am new here. Will you help me?\\n\")\n",
        "\n",
        "        if will_help in self.negative_responses:\n",
        "            print(\"Okay, thanks. Goodbye!\")\n",
        "            return\n",
        "        self.chat()\n",
        "\n",
        "    def make_exit(self, reply):\n",
        "        for command in self.exit_commands:\n",
        "            if reply == command:\n",
        "                print(\"Okay, have a nice day!\")\n",
        "                return True\n",
        "\n",
        "    def chat(self):\n",
        "      reply = input(random.choice(self.random_question)).lower()\n",
        "      while not self.make_exit(reply):\n",
        "          reply = input(self.match_reply(reply))\n",
        "\n",
        "\n",
        "    def match_reply(self, reply):\n",
        "        for intent, regex_pattern in self.alienbabble.items():\n",
        "            found_match = re.match(regex_pattern, reply)\n",
        "            if found_match:\n",
        "                if intent == 'describe_planet_intent':\n",
        "                    return self.describe_planet_intent()\n",
        "                elif intent == 'answer_why_intent':\n",
        "                    return self.answer_why_intent()\n",
        "                elif intent == 'about_intellipaat':\n",
        "                    return self.about_intellipaat()\n",
        "                elif intent =='about_disaster_managment':\n",
        "                  return self.about_disaster_managment()\n",
        "\n",
        "        return self.no_match_intent()\n",
        "\n",
        "    def describe_planet_intent(self):\n",
        "        responses = [\n",
        "            \"I am from your mother's pussy, you bitch.\",\n",
        "            \"Utopia in the galaxy Andromeda.\"\n",
        "        ]\n",
        "        return random.choice(responses)\n",
        "\n",
        "    def answer_why_intent(self):\n",
        "        responses = [\n",
        "            \"I am in peace.\",\n",
        "            \"To have a good time.\",\n",
        "            \"To explore different planets.\"\n",
        "        ]\n",
        "        return random.choice(responses)\n",
        "\n",
        "    def about_intellipaat(self):\n",
        "        responses = [\n",
        "            \"It's your mum's pussy, bitch.\",\n",
        "            \"Well, it's a YouTube channel where my creator learned to make this bot.\",\n",
        "            \"A YouTube channel.\"\n",
        "        ]\n",
        "        return random.choice(responses)\n",
        "\n",
        "    def about_disaster_managment(self):\n",
        "      responses= [\"well there are many types what you wanna know about?\",\"you can surf the website and learn more\",\"to get more detail contact me\"]\n",
        "\n",
        "      return random.choice(responses)\n",
        "\n",
        "    def no_match_intent(self):\n",
        "        responses = [\n",
        "            \"Tell me something more.\",\n",
        "            \"What? Can you elaborate on that?\",\n",
        "            \"How do you think I feel when you say that?\"\n",
        "        ]\n",
        "        return random.choice(responses)\n",
        "\n",
        "AlienBot = RuleBot()\n",
        "AlienBot.greet()\n"
      ],
      "metadata": {
        "id": "S_TGnvuFcQHa"
      },
      "execution_count": null,
      "outputs": []
    },
    {
      "cell_type": "code",
      "source": [],
      "metadata": {
        "id": "rDgv35tfcQgb"
      },
      "execution_count": null,
      "outputs": []
    },
    {
      "cell_type": "code",
      "source": [],
      "metadata": {
        "id": "aqMc1wb4cQjI"
      },
      "execution_count": null,
      "outputs": []
    }
  ]
}